{
 "cells": [
  {
   "cell_type": "code",
   "execution_count": null,
   "id": "4db2a26e",
   "metadata": {},
   "outputs": [],
   "source": [
    "import torch\n",
    "import torchvision\n",
    "import torch.nn as nn\n",
    "import torchvision.transforms as transforms\n",
    "from torch.autograd import Variable\n",
    "import torch.utils.data as data_utils\n",
    "from PIL import Image\n",
    "from torch.utils.data import Dataset\n",
    "from torchvision import datasets\n",
    "from torchvision.transforms import ToTensor\n",
    "from matplotlib import pyplot as plt\n",
    "import numpy as np\n",
    "from torch.utils.data import DataLoader\n",
    "import pandas as pd\n",
    "import os\n",
    "from torchvision.io import read_image\n",
    "import torch.nn.functional as F\n",
    "from torch.optim import Adam\n",
    "from os import listdir\n",
    "from os.path import isfile, join\n",
    "import cv2"
   ]
  },
  {
   "attachments": {},
   "cell_type": "markdown",
   "id": "fc1c7ea4",
   "metadata": {},
   "source": [
    "# Creation of custom dataset to be used with pytorch"
   ]
  },
  {
   "cell_type": "code",
   "execution_count": 5,
   "id": "c8866e2a",
   "metadata": {},
   "outputs": [],
   "source": [
    "class ImageDataset(Dataset):\n",
    "    def __init__(self, annotations_file, img_dir, transform=None, target_transform=None):\n",
    "        self.img_labels = pd.read_csv(annotations_file)\n",
    "        self.img_dir = img_dir\n",
    "        self.transform = transform\n",
    "        self.target_transform = target_transform\n",
    "\n",
    "    def __len__(self):\n",
    "        return len(self.img_labels)\n",
    "\n",
    "    def __getitem__(self, idx):\n",
    "        img_path = os.path.join(self.img_dir, self.img_labels.iloc[idx, 0])\n",
    "        image = read_image(img_path)\n",
    "        label = self.img_labels.iloc[idx, 1]\n",
    "        if self.transform:\n",
    "            image = self.transform(image)\n",
    "        if self.target_transform:\n",
    "            label = self.target_transform(label)\n",
    "        return image, label"
   ]
  },
  {
   "attachments": {},
   "cell_type": "markdown",
   "id": "6dc85bff",
   "metadata": {},
   "source": [
    "# Definition of datasets and loaders"
   ]
  },
  {
   "cell_type": "code",
   "execution_count": 6,
   "id": "eba7eca5",
   "metadata": {},
   "outputs": [],
   "source": [
    "traindata = ImageDataset(annotations_file='images_split/train/labels_train.csv',img_dir='images_split/train/')\n",
    "testdata = ImageDataset(annotations_file='images_split/test/labels_test.csv',img_dir='images_split/test')\n",
    "valdata = ImageDataset(annotations_file='images_split/val/labels_val.csv',img_dir='images_split/val')\n",
    "\n",
    "batch_size=5\n",
    "train_loader = DataLoader(traindata, batch_size, shuffle=True,)\n",
    "test_loader = DataLoader(testdata, batch_size, shuffle=True)\n",
    "val_loader = DataLoader(valdata, batch_size, shuffle=True)"
   ]
  },
  {
   "attachments": {},
   "cell_type": "markdown",
   "id": "35131f30",
   "metadata": {},
   "source": [
    "# Defining network architecture"
   ]
  },
  {
   "cell_type": "code",
   "execution_count": 7,
   "id": "a22ce51d",
   "metadata": {},
   "outputs": [],
   "source": [
    "class Network(nn.Module):\n",
    "    def __init__(self):\n",
    "        super(Network, self).__init__()\n",
    "        \n",
    "        self.conv1 = nn.Conv2d(3, 12, 5,1,1)\n",
    "        self.bn1 = nn.BatchNorm2d(12)\n",
    "        self.conv2 = nn.Conv2d(12, 12, 5, 1, 1)\n",
    "        self.bn2 = nn.BatchNorm2d(12)\n",
    "        self.pool = nn.MaxPool2d(2,2)\n",
    "        self.conv4 = nn.Conv2d(12,24, 5, 1, 1)\n",
    "        self.bn4 = nn.BatchNorm2d(24)\n",
    "        self.conv5 = nn.Conv2d(24, 24, 5, 1, 1)\n",
    "        self.bn5 = nn.BatchNorm2d(24)\n",
    "        self.pool2 = nn.AvgPool2d(2,2)\n",
    "        self.fc1 = nn.Linear(20184, 15)\n",
    "\n",
    "    def forward(self, input):\n",
    "        x = F.relu(self.bn1(self.conv1(input.float())))      \n",
    "        x = F.relu(self.bn2(self.conv2(x)))     \n",
    "        x = self.pool(x)                        \n",
    "        x = F.relu(self.bn4(self.conv4(x)))     \n",
    "        x = F.relu(self.bn5(self.conv5(x)))\n",
    "        x = self.pool2(x)\n",
    "        x = x.view(-1, 20184)\n",
    "        x = self.fc1(x)\n",
    "        x = torch.softmax(x,dim=1)\n",
    "\n",
    "        return x"
   ]
  },
  {
   "attachments": {},
   "cell_type": "markdown",
   "id": "9f589a7c",
   "metadata": {},
   "source": [
    "# Instantiating model"
   ]
  },
  {
   "cell_type": "code",
   "execution_count": 9,
   "id": "60eec849",
   "metadata": {},
   "outputs": [],
   "source": [
    "model = Network()\n",
    "criterion = nn.CrossEntropyLoss()\n",
    "optimizer = Adam(model.parameters(), lr=0.001, weight_decay=0.0001)\n",
    "num_epochs = 20\n",
    "classes = ('0', '1', '2', '3', '4', '5', '6', '7', '8', '9', '10', '11', '12', '13', '14')"
   ]
  },
  {
   "attachments": {},
   "cell_type": "markdown",
   "id": "feca81a9",
   "metadata": {},
   "source": [
    "# Training model"
   ]
  },
  {
   "cell_type": "code",
   "execution_count": null,
   "id": "99ca270a",
   "metadata": {},
   "outputs": [],
   "source": [
    "train_loss_list = []\n",
    "val_loss_list = []\n",
    "val_accuracy_list = []\n",
    "device = torch.device(\"cuda:0\" if torch.cuda.is_available() else \"cpu\")\n",
    "for epoch in range(num_epochs):\n",
    "    model.train()\n",
    "    train_loss = 0.0\n",
    "    for i, (images, labels) in enumerate(train_loader, 0):\n",
    "        images = Variable(images.to(device))\n",
    "        labels = Variable(labels.to(device))\n",
    "        optimizer.zero_grad()\n",
    "        outputs = model(images)\n",
    "        loss = criterion(outputs, labels)\n",
    "        loss.backward()\n",
    "        optimizer.step()\n",
    "        train_loss += loss.item()\n",
    "        \n",
    "    model.eval()\n",
    "    val_loss = 0.0\n",
    "    correct = 0\n",
    "    total = 0\n",
    "    \n",
    "    with torch.no_grad():\n",
    "        for images, labels in val_loader:\n",
    "            outputs = model(images)\n",
    "            _, predicted = torch.max(outputs.data, 1)\n",
    "            total += labels.size(0)\n",
    "            correct += (predicted == labels).sum().item()\n",
    "            val_loss += criterion(outputs, labels).item()\n",
    "    \n",
    "    train_loss /= len(train_loader)\n",
    "    val_loss /= len(val_loader)\n",
    "    accuracy = correct / total\n",
    "    \n",
    "    train_loss_list.append(train_loss)\n",
    "    val_loss_list.append(val_loss)\n",
    "    val_accuracy_list.append(accuracy)\n",
    "    \n",
    "    print(f\"Epoch {epoch+1}/{num_epochs}, Train Loss: {train_loss:.4f}, Validation Loss: {val_loss:.4f}, Accuracy: {accuracy:.4f}\")"
   ]
  },
  {
   "attachments": {},
   "cell_type": "markdown",
   "id": "dc9629ff",
   "metadata": {},
   "source": [
    "# Loss and accuracy plots"
   ]
  },
  {
   "cell_type": "code",
   "execution_count": 104,
   "id": "d8090089",
   "metadata": {},
   "outputs": [
    {
     "name": "stderr",
     "output_type": "stream",
     "text": [
      "No artists with labels found to put in legend.  Note that artists whose label start with an underscore are ignored when legend() is called with no argument.\n"
     ]
    },
    {
     "data": {
      "image/png": "[encoded data removed]",
      "text/plain": [
       "<Figure size 1000x400 with 2 Axes>"
      ]
     },
     "metadata": {},
     "output_type": "display_data"
    }
   ],
   "source": [
    "from matplotlib import pyplot as plt\n",
    "\n",
    "epochs = range(1, num_epochs+1)\n",
    "\n",
    "#Losses\n",
    "plt.figure(figsize=(10, 4))\n",
    "plt.subplot(1, 2, 1)\n",
    "plt.plot(epochs, train_loss_list, label='Training Loss')\n",
    "plt.plot(epochs, val_loss_list, label='Validation Loss')\n",
    "plt.xlabel('Epoch')\n",
    "plt.ylabel('Loss')\n",
    "plt.title('Training and Validation Loss per Epoch')\n",
    "plt.legend()\n",
    "\n",
    "# Validation accuracy\n",
    "plt.subplot(1, 2, 2)\n",
    "plt.plot(epochs, val_accuracy_list)\n",
    "plt.xlabel('Epoch')\n",
    "plt.ylabel('Validation Accuracy')\n",
    "plt.title('Validation Accuracy per Epoch')\n",
    "plt.legend()\n",
    "\n",
    "plt.show()"
   ]
  },
  {
   "attachments": {},
   "cell_type": "markdown",
   "id": "606f63a2",
   "metadata": {},
   "source": [
    "# Test accuracy, precision and recall"
   ]
  },
  {
   "cell_type": "code",
   "execution_count": 14,
   "id": "9d73ff48",
   "metadata": {},
   "outputs": [
    {
     "name": "stdout",
     "output_type": "stream",
     "text": [
      "Test Accuracy: 0.79250\n",
      "Precision: 0.79570\n",
      "Recall: 0.94872\n"
     ]
    }
   ],
   "source": [
    "model.eval()\n",
    "tp = 0\n",
    "fp = 0\n",
    "fn = 0\n",
    "with torch.no_grad():\n",
    "    for landmarks, labels in test_loader:\n",
    "        outputs = model(landmarks)\n",
    "        _, predicted = torch.max(outputs.data, 1)\n",
    "        total_test += labels.size(0)\n",
    "        correct_test += (predicted == labels).sum().item()\n",
    "        tp += ((predicted == labels) & (predicted == 1)).sum().item()\n",
    "        fp += ((predicted != labels) & (predicted == 1)).sum().item()\n",
    "        fn += ((predicted != labels) & (predicted == 0)).sum().item()\n",
    "\n",
    "accuracy_test = correct_test / total_test\n",
    "precision = tp / (tp + fp)\n",
    "recall = tp / (tp + fn)\n",
    "\n",
    "print(f\"Test Accuracy: {accuracy_test:.5f}\")\n",
    "print(f\"Precision: {precision:.5f}\")\n",
    "print(f\"Recall: {recall:.5f}\")"
   ]
  },
  {
   "attachments": {},
   "cell_type": "markdown",
   "id": "9c8e4c2f",
   "metadata": {},
   "source": [
    "# Test accuracy for each label"
   ]
  },
  {
   "cell_type": "code",
   "execution_count": 11,
   "id": "677f1fbb",
   "metadata": {},
   "outputs": [
    {
     "name": "stdout",
     "output_type": "stream",
     "text": [
      "Test Accuracy for 0: 0.79310\n",
      "Test Accuracy for 1: 0.85057\n",
      "Test Accuracy for 2: 0.65517\n",
      "Test Accuracy for 3: 0.85057\n",
      "Test Accuracy for 4: 0.79310\n",
      "Test Accuracy for 5: 0.82759\n",
      "Test Accuracy for 6: 0.59770\n",
      "Test Accuracy for 7: 0.71264\n",
      "Test Accuracy for 8: 0.56322\n",
      "Test Accuracy for 9: 0.90805\n",
      "Test Accuracy for a: 0.81609\n",
      "Test Accuracy for b: 0.81818\n",
      "Test Accuracy for c: 0.93103\n",
      "Test Accuracy for d: 0.87356\n",
      "Test Accuracy for e: 0.89655\n"
     ]
    }
   ],
   "source": [
    "label_names = ['0', '1', '2', '3', '4', '5', '6', '7', '8', '9', '10', '11', '12', '13', '14']\n",
    "\n",
    "correct_counts = {label: 0 for label in label_names}\n",
    "total_counts = {label: 0 for label in label_names}\n",
    "\n",
    "model.eval()\n",
    "\n",
    "with torch.no_grad():\n",
    "    for images, labels in test_loader:\n",
    "        outputs = model(images)\n",
    "        _, predicted = torch.max(outputs, 1)\n",
    "        \n",
    "        for pred_label, true_label in zip(predicted, labels):\n",
    "            pred_label = pred_label.item()\n",
    "            true_label = true_label.item()\n",
    "            \n",
    "            if pred_label == true_label:\n",
    "                correct_counts[label_names[true_label]] += 1\n",
    "            total_counts[label_names[true_label]] += 1\n",
    "\n",
    "for label in label_names: \n",
    "    accuracy = correct_counts[label] / total_counts[label]\n",
    "    if label == '10':\n",
    "        label = 'a'\n",
    "    elif label == '11':\n",
    "        label = 'b'\n",
    "    elif label == '12':\n",
    "        label = 'c'\n",
    "    elif label == '13':\n",
    "        label = 'd'\n",
    "    elif label == '14':\n",
    "        label = 'e'\n",
    "    print(f\"Test Accuracy for {label}: {accuracy:.5f}\")"
   ]
  },
  {
   "attachments": {},
   "cell_type": "markdown",
   "id": "5b85f3ce",
   "metadata": {},
   "source": [
    "# Saving model"
   ]
  },
  {
   "cell_type": "code",
   "execution_count": 103,
   "id": "834bf0d8",
   "metadata": {},
   "outputs": [],
   "source": [
    "torch.save(model.state_dict(), 'hands_model_cnn_no_soft.pth')"
   ]
  },
  {
   "attachments": {},
   "cell_type": "markdown",
   "id": "28e3c276",
   "metadata": {},
   "source": [
    "# Making predictions for each image"
   ]
  },
  {
   "cell_type": "code",
   "execution_count": null,
   "id": "55a94548",
   "metadata": {},
   "outputs": [],
   "source": [
    "from matplotlib import pyplot as plt\n",
    "\n",
    "coord = []\n",
    "lista = []\n",
    "for i in os.listdir(\"images_split/test\"):  \n",
    "    \n",
    "    if i.endswith(\".jpg\"):\n",
    "        path = os.path.join(\"images_split/test\", i)\n",
    "        model.eval()\n",
    "\n",
    "        with torch.no_grad():\n",
    "            for images, labels in test_loader:\n",
    "                output = model(images)\n",
    "\n",
    "        probabilities = torch.softmax(output, dim=1)\n",
    "        _, predicted_class = torch.max(probabilities, dim=1)\n",
    "        print(\"Class predicted:\", predicted_class.item())\n",
    "        im = cv2.imread(path)\n",
    "        im_rgb = cv2.cvtColor(im, cv2.COLOR_BGR2RGB)\n",
    "        plt.imshow(im_rgb)\n",
    "        plt.axis('off')\n",
    "        plt.show()"
   ]
  },
  {
   "cell_type": "code",
   "execution_count": null,
   "id": "217323cf",
   "metadata": {},
   "outputs": [],
   "source": []
  }
 ],
 "metadata": {
  "kernelspec": {
   "display_name": "Python 3 (ipykernel)",
   "language": "python",
   "name": "python3"
  },
  "language_info": {
   "codemirror_mode": {
    "name": "ipython",
    "version": 3
   },
   "file_extension": ".py",
   "mimetype": "text/x-python",
   "name": "python",
   "nbconvert_exporter": "python",
   "pygments_lexer": "ipython3",
   "version": "3.9.0"
  }
 },
 "nbformat": 4,
 "nbformat_minor": 5
}
