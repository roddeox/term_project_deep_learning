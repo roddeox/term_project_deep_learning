version https://git-lfs.github.com/spec/v1
oid sha256:4d248ae37502bafc1d5fbe4950ae5e11bddda511a9f8e4ef9dd4aea19bad7913
size 66750566
