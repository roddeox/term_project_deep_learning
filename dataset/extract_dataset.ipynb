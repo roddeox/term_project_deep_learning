{
 "cells": [
  {
   "cell_type": "code",
   "execution_count": 7,
   "id": "4db2a26e",
   "metadata": {},
   "outputs": [],
   "source": [
    "from PIL import Image\n",
    "from torch.utils.data import Dataset\n",
    "from torchvision import datasets\n",
    "from torchvision.transforms import ToTensor\n",
    "import matplotlib.pyplot as plt\n",
    "import pandas as pd\n",
    "import os\n",
    "from os import listdir\n",
    "from os.path import isfile, join"
   ]
  },
  {
   "attachments": {},
   "cell_type": "markdown",
   "id": "7dea7023",
   "metadata": {},
   "source": [
    "# Extraction of images from .npy files"
   ]
  },
  {
   "cell_type": "code",
   "execution_count": null,
   "id": "06d66553",
   "metadata": {},
   "outputs": [],
   "source": [
    "path_X = \"archive/X.npy\"\n",
    "path_Y = \"archive/Y.npy\"\n",
    "\n",
    "img_array = np.load(path_X)\n",
    "label_array = np.load(path_Y)\n",
    "img_array = img_array*255\n",
    "i=0\n",
    "j = label_array[0]\n",
    "temp = np.array(['temp'])\n",
    "for x in img_array:\n",
    "    j = label_array[i][0]\n",
    "    x = x.astype(np.uint8)\n",
    "    im = Image.fromarray(x)\n",
    "    im.save(str(j) + \"_\"  + str(i) + \".jpg\")\n",
    "    temp = label_array[i][0]\n",
    "    i = i + 1"
   ]
  },
  {
   "attachments": {},
   "cell_type": "markdown",
   "id": "f50ac302",
   "metadata": {},
   "source": [
    "# After train, test and val datasets split, their labels were saved in a csv file"
   ]
  },
  {
   "cell_type": "code",
   "execution_count": 9,
   "id": "76ac22c7",
   "metadata": {},
   "outputs": [],
   "source": [
    "file_name = os.listdir(\"images_split/val\")\n",
    "labels = []\n",
    "for file in file_name:\n",
    "    labels.append(file[0])\n",
    "df = pd.DataFrame(file_name, columns=['file name'])\n",
    "df2 = pd.DataFrame(labels, columns=['labels'])\n",
    "df_new = pd.concat([df, df2], axis=1)\n",
    "df_new.to_csv(\"labels_val.csv\", index = True)"
   ]
  }
 ],
 "metadata": {
  "kernelspec": {
   "display_name": "Python 3 (ipykernel)",
   "language": "python",
   "name": "python3"
  },
  "language_info": {
   "codemirror_mode": {
    "name": "ipython",
    "version": 3
   },
   "file_extension": ".py",
   "mimetype": "text/x-python",
   "name": "python",
   "nbconvert_exporter": "python",
   "pygments_lexer": "ipython3",
   "version": "3.10.9"
  }
 },
 "nbformat": 4,
 "nbformat_minor": 5
}
